{
  "nbformat": 4,
  "nbformat_minor": 0,
  "metadata": {
    "colab": {
      "name": "PowerPoint_Python",
      "provenance": []
    },
    "kernelspec": {
      "name": "python3",
      "display_name": "Python 3"
    },
    "language_info": {
      "name": "python"
    }
  },
  "cells": [
    {
      "cell_type": "code",
      "metadata": {
        "colab": {
          "base_uri": "https://localhost:8080/"
        },
        "id": "O6KDkr06SlUb",
        "outputId": "382e7f05-17d7-4dea-eb87-8a74d5117c9d"
      },
      "source": [
        "!pip install python-pptx"
      ],
      "execution_count": 8,
      "outputs": [
        {
          "output_type": "stream",
          "text": [
            "Collecting python-pptx\n",
            "  Downloading python-pptx-0.6.19.tar.gz (9.3 MB)\n",
            "\u001b[K     |████████████████████████████████| 9.3 MB 3.8 MB/s \n",
            "\u001b[?25hRequirement already satisfied: lxml>=3.1.0 in /usr/local/lib/python3.7/dist-packages (from python-pptx) (4.2.6)\n",
            "Requirement already satisfied: Pillow>=3.3.2 in /usr/local/lib/python3.7/dist-packages (from python-pptx) (7.1.2)\n",
            "Collecting XlsxWriter>=0.5.7\n",
            "  Downloading XlsxWriter-3.0.1-py3-none-any.whl (148 kB)\n",
            "\u001b[K     |████████████████████████████████| 148 kB 54.8 MB/s \n",
            "\u001b[?25hBuilding wheels for collected packages: python-pptx\n",
            "  Building wheel for python-pptx (setup.py) ... \u001b[?25l\u001b[?25hdone\n",
            "  Created wheel for python-pptx: filename=python_pptx-0.6.19-py3-none-any.whl size=469952 sha256=2d70669808d926778adacc92a76e42fac368904a006763b9b391d163636d31fb\n",
            "  Stored in directory: /root/.cache/pip/wheels/17/2f/48/d23f362a5c4728f063b61c4be61e23c2415da1a371f902e5b4\n",
            "Successfully built python-pptx\n",
            "Installing collected packages: XlsxWriter, python-pptx\n",
            "Successfully installed XlsxWriter-3.0.1 python-pptx-0.6.19\n"
          ],
          "name": "stdout"
        }
      ]
    },
    {
      "cell_type": "code",
      "metadata": {
        "id": "7jPCuMWPTce9"
      },
      "source": [
        "from pptx import Presentation"
      ],
      "execution_count": 9,
      "outputs": []
    },
    {
      "cell_type": "code",
      "metadata": {
        "id": "N6Ai_F7KTEDL"
      },
      "source": [
        "prs = Presentation()\n",
        "title_slide_layout = prs.slide_layouts[0]"
      ],
      "execution_count": 11,
      "outputs": []
    },
    {
      "cell_type": "code",
      "metadata": {
        "id": "7mGyliJjTL5A"
      },
      "source": [
        "slide = prs.slides.add_slide(title_slide_layout)\n",
        "title = slide.shapes.title\n",
        "subtitle = slide.placeholders[1]"
      ],
      "execution_count": 12,
      "outputs": []
    },
    {
      "cell_type": "code",
      "metadata": {
        "id": "082WCMdYj0h7"
      },
      "source": [
        "title.text = \"Hello, World!\"\n",
        "subtitle.text = \"Teste python Power Point\""
      ],
      "execution_count": 13,
      "outputs": []
    },
    {
      "cell_type": "code",
      "metadata": {
        "id": "JLflLo-rkQ3O"
      },
      "source": [
        "prs.save('teste.pptx')"
      ],
      "execution_count": 14,
      "outputs": []
    },
    {
      "cell_type": "code",
      "metadata": {
        "id": "uzzfawhokUe9"
      },
      "source": [
        ""
      ],
      "execution_count": null,
      "outputs": []
    }
  ]
}